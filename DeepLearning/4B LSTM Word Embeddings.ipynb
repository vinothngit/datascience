{
 "cells": [
  {
   "cell_type": "markdown",
   "metadata": {},
   "source": [
    "# Learning Work Embeddings"
   ]
  },
  {
   "cell_type": "code",
   "execution_count": 1,
   "metadata": {},
   "outputs": [],
   "source": [
    "import numpy as np\n",
    "\n",
    "import matplotlib.pyplot as plt\n",
    "%matplotlib inline\n",
    "\n",
    "import pandas as pd\n",
    "\n",
    "import tensorflow as tf\n",
    "from tensorflow import keras"
   ]
  },
  {
   "cell_type": "code",
   "execution_count": 2,
   "metadata": {},
   "outputs": [],
   "source": [
    "tf.set_random_seed(42)"
   ]
  },
  {
   "cell_type": "markdown",
   "metadata": {},
   "source": [
    "## Dataset - IMDB"
   ]
  },
  {
   "cell_type": "code",
   "execution_count": 3,
   "metadata": {},
   "outputs": [
    {
     "name": "stdout",
     "output_type": "stream",
     "text": [
      "25000 25000\n",
      "25000 25000\n",
      "25000 25000\n",
      "25000 25000\n"
     ]
    }
   ],
   "source": [
    "imdb = keras.datasets.imdb\n",
    "\n",
    "max_features = 20000\n",
    "\n",
    "(Xtrain, Ytrain), (Xtest, Ytest) = imdb.load_data(num_words = max_features)\n",
    "\n",
    "\n",
    "# Downloading data from https://storage.googleapis.com/tensorflow/tf-keras-datasets/imdb.npz\n",
    "# 17465344/17464789 [==============================] - 8s 0us/step\n",
    "\n",
    "\n",
    "print(len(Xtrain), len(Ytrain))\n",
    "print(len(Xtest), len(Ytest))\n",
    "\n",
    "Xtrain = keras.preprocessing.sequence.pad_sequences(Xtrain, maxlen =25)\n",
    "Xtest = keras.preprocessing.sequence.pad_sequences(Xtest, maxlen =25)\n",
    "\n",
    "print(len(Xtrain), len(Ytrain))\n",
    "print(len(Xtest), len(Ytest))"
   ]
  },
  {
   "cell_type": "markdown",
   "metadata": {},
   "source": [
    "## LSTM"
   ]
  },
  {
   "cell_type": "code",
   "execution_count": 4,
   "metadata": {},
   "outputs": [
    {
     "name": "stdout",
     "output_type": "stream",
     "text": [
      "WARNING:tensorflow:From C:\\Anaconda3\\lib\\site-packages\\tensorflow\\python\\keras\\initializers.py:119: calling RandomUniform.__init__ (from tensorflow.python.ops.init_ops) with dtype is deprecated and will be removed in a future version.\n",
      "Instructions for updating:\n",
      "Call initializer instance with the dtype argument instead of passing it to the constructor\n",
      "WARNING:tensorflow:From C:\\Anaconda3\\lib\\site-packages\\tensorflow\\python\\ops\\init_ops.py:1251: calling VarianceScaling.__init__ (from tensorflow.python.ops.init_ops) with dtype is deprecated and will be removed in a future version.\n",
      "Instructions for updating:\n",
      "Call initializer instance with the dtype argument instead of passing it to the constructor\n",
      "Model: \"sequential\"\n",
      "_________________________________________________________________\n",
      "Layer (type)                 Output Shape              Param #   \n",
      "=================================================================\n",
      "embedding (Embedding)        (None, None, 128)         2560000   \n",
      "_________________________________________________________________\n",
      "lstm (LSTM)                  (None, 128)               131584    \n",
      "_________________________________________________________________\n",
      "dense (Dense)                (None, 1)                 129       \n",
      "=================================================================\n",
      "Total params: 2,691,713\n",
      "Trainable params: 2,691,713\n",
      "Non-trainable params: 0\n",
      "_________________________________________________________________\n"
     ]
    }
   ],
   "source": [
    "lstmModel = keras.models.Sequential()\n",
    "\n",
    "lstmModel.add(keras.layers.Embedding(input_dim = max_features, output_dim = 128))\n",
    "\n",
    "lstmModel.add(keras.layers.LSTM(128, dropout=0.2)) #, recurrent_dropout=0.2\n",
    "\n",
    "lstmModel.add(keras.layers.Dense(1, activation = 'sigmoid'))\n",
    "\n",
    "lstmModel.summary()"
   ]
  },
  {
   "cell_type": "code",
   "execution_count": 5,
   "metadata": {},
   "outputs": [
    {
     "name": "stdout",
     "output_type": "stream",
     "text": [
      "WARNING:tensorflow:From C:\\Anaconda3\\lib\\site-packages\\tensorflow\\python\\ops\\nn_impl.py:180: add_dispatch_support.<locals>.wrapper (from tensorflow.python.ops.array_ops) is deprecated and will be removed in a future version.\n",
      "Instructions for updating:\n",
      "Use tf.where in 2.0, which has the same broadcast rule as np.where\n"
     ]
    }
   ],
   "source": [
    "# Configure  the model for training, by using appropriate optimizers and regularizations\n",
    "# Available optimizer: adam, rmsprop, adagrad, sgd\n",
    "# loss:  objective that the model will try to minimize. \n",
    "# Available loss: categorical_crossentropy, binary_crossentropy, mean_squared_error\n",
    "# metrics: List of metrics to be evaluated by the model during training and testing. \n",
    "\n",
    "lstmModel.compile(loss='binary_crossentropy', optimizer='adam', metrics=['accuracy'])"
   ]
  },
  {
   "cell_type": "code",
   "execution_count": 6,
   "metadata": {},
   "outputs": [
    {
     "name": "stdout",
     "output_type": "stream",
     "text": [
      "Train on 20000 samples, validate on 5000 samples\n",
      "Epoch 1/15\n",
      "20000/20000 [==============================] - 112s 6ms/sample - loss: 0.5103 - acc: 0.7393 - val_loss: 0.4768 - val_acc: 0.7608\n",
      "Epoch 2/15\n",
      "20000/20000 [==============================] - 110s 6ms/sample - loss: 0.3454 - acc: 0.8489 - val_loss: 0.5016 - val_acc: 0.7602\n",
      "Epoch 3/15\n",
      "20000/20000 [==============================] - 120s 6ms/sample - loss: 0.2330 - acc: 0.9035 - val_loss: 0.5999 - val_acc: 0.7616\n",
      "Epoch 4/15\n",
      "20000/20000 [==============================] - 133s 7ms/sample - loss: 0.1496 - acc: 0.9417 - val_loss: 0.7581 - val_acc: 0.7544\n",
      "Epoch 5/15\n",
      "20000/20000 [==============================] - 142s 7ms/sample - loss: 0.0917 - acc: 0.9649 - val_loss: 0.8958 - val_acc: 0.7588\n",
      "Epoch 6/15\n",
      "20000/20000 [==============================] - 150s 7ms/sample - loss: 0.0599 - acc: 0.9791 - val_loss: 1.1558 - val_acc: 0.7448\n",
      "Epoch 7/15\n",
      "20000/20000 [==============================] - 167s 8ms/sample - loss: 0.0394 - acc: 0.9869 - val_loss: 1.1964 - val_acc: 0.7416\n",
      "Epoch 8/15\n",
      "20000/20000 [==============================] - 174s 9ms/sample - loss: 0.0282 - acc: 0.9908 - val_loss: 1.3123 - val_acc: 0.7470\n",
      "Epoch 9/15\n",
      "20000/20000 [==============================] - 184s 9ms/sample - loss: 0.0180 - acc: 0.9941 - val_loss: 1.4391 - val_acc: 0.7364\n",
      "Epoch 10/15\n",
      "20000/20000 [==============================] - 203s 10ms/sample - loss: 0.0147 - acc: 0.9949 - val_loss: 1.7328 - val_acc: 0.7364\n",
      "Epoch 11/15\n",
      "20000/20000 [==============================] - 221s 11ms/sample - loss: 0.0142 - acc: 0.9952 - val_loss: 1.6748 - val_acc: 0.7406s - loss: 0.01 - ETA: 2s - loss: 0.014\n",
      "Epoch 12/15\n",
      "20000/20000 [==============================] - 229s 11ms/sample - loss: 0.0111 - acc: 0.9964 - val_loss: 1.6143 - val_acc: 0.74260062 - acc: 0.998 - ETA: 3:13 - loss: 0.0062 - acc: 0.998 - ET - ETA: 3:0 - ETA: - ETA: 2:54 - loss: 0.0065 -  - ETA: 2:52 - loss: 0.0074 - ETA: 2:41 - loss: 0. - ETA: 2:38 - loss: 0.0073 - acc: 0.9 - ETA: 2:38 - loss: 0.0072 - ac - ETA: 2:36 - loss: 0.00 - ETA: 2:33 - loss: 0.0070 - acc: 0.997 - ETA: 2:33 - loss: 0.0070 - acc: - ETA: 2:32 - loss: 0.0069 -  - ETA: 2:31 - loss: 0.0068 - acc: 0 - ETA: 2:30 - loss: 0.0067 - acc: 0.9 - ETA: 2:29 - loss: 0.0066 - acc: 0.997 - ETA: 2:29 - loss: 0. -  - ETA: 2:20 - loss: 0.0070 - acc: - ETA: 2:18 - loss: 0.0077 - acc: 0. - ETA: 2:18 - loss: 0.0078 - acc: 0.9 - ETA: 2:17 - loss: 0.0078 - acc: 0.997 - ETA: 2:17 - loss: 0.0078 - acc:  - ETA: 2:16 - loss: 0.0078 - acc: - ET - ETA: 2:10 - lo - ETA: 2:06 - ETA: 2:01 - loss: 0.0075 - acc: 0.997 - ETA: 2:01  - ETA: 1:56 - loss: 0.0076 -  - ETA: 1:54 - - ETA: 1:49 - loss: 0.0075 - ETA: 1:47 - loss: 0.0075 - acc: 0.997 - ETA: 1:46 - loss: 0.0075 - acc: 0. - ETA: 1:46 - loss: 0.0074 - ac - ETA: 1:44 - l - ETA: 1:40 - loss: 0 - ETA: 1:37 - loss: 0.0082 - ETA: 1:27 - loss: 0.0083 - acc: 0. - ETA: 1:26 - loss: 0.0083 - ac - ETA: 1:25 - loss: 0.0082 - acc - ETA: 1:23 - loss: 0.0081 - acc: 0.99 - ETA: 1:23 - loss: 0.0081 - acc: 0.997 - ETA: 1:23 - loss: 0.0081  - ETA: 1:21 - loss: 0.0085 - ac - ETA: 1:19 - loss: 0.0085 - acc: 0.9 - ETA: 1:18 - loss: 0.0086 - acc - ETA: 1:17 - loss: 0.0090 - a - ETA: 1:15 - loss: 0 - ETA: 1:12 - loss: 0.0093 - acc: 0.9 - ETA: 1:11 - loss - ET - ETA: 1:01 - loss: 0.0093 - ac - ETA: 59s - loss: 0.00 - ETA: 58s - loss: 0. - ETA: 56s - loss: 0.0102 - acc: 0.99 - ETA: 13s - loss: 0.0110 - acc:  -  - ETA: 9s - loss: 0.0109 - acc: 0. -  - ETA: 2s - loss: 0.0111 - acc: 0.996 - ETA: 1s - loss: 0.0111 - \n",
      "Epoch 13/15\n",
      "20000/20000 [==============================] - 240s 12ms/sample - loss: 0.0096 - acc: 0.9966 - val_loss: 1.8079 - val_acc: 0.737411 - loss: 0.0035 -  - ETA: 3:41 - loss: 0.0154  - ETA: 3:40 - loss: 0.0135 -  - ETA: 3:35 - loss: 0.0127 -  - ETA: - ETA: 3:23 - loss: 0. - ETA: 3:21 - loss: 0.0083 - acc: 0 - ETA: 3:21 - loss: 0.0080 -  - ETA: 3:20 - loss: 0.0081 - acc: 0. - ETA: 3:19 - lo - ETA: 3:15 -  - ETA: 2:55 - loss: 0.0071 - a - ETA: 2:53 - loss: 0.0068 - acc - ET - ETA: 2:45 - loss: 0.0064 - acc:  - ETA: 2:44 - loss: 0.0064 - acc: 0.99 - ETA: 2:44 - loss: - ETA: 2:40 - loss: 0.0062 - acc:  - E - ETA: 11s - los - ETA: 9s - loss: 0.0090 - acc - ETA: 7s - loss: 0.0090 - acc: 0.99\n",
      "Epoch 14/15\n",
      "20000/20000 [==============================] - 252s 13ms/sample - loss: 0.0055 - acc: 0.9982 - val_loss: 1.7984 - val_acc: 0.7328\n",
      "Epoch 15/15\n",
      "20000/20000 [==============================] - 266s 13ms/sample - loss: 0.0089 - acc: 0.9972 - val_loss: 1.7902 - val_acc: 0.7332\n"
     ]
    }
   ],
   "source": [
    "# train the model\n",
    "\n",
    "history = lstmModel.fit(Xtrain, Ytrain, epochs = 15, batch_size=16, validation_split=0.2, verbose=1 )"
   ]
  },
  {
   "cell_type": "code",
   "execution_count": 7,
   "metadata": {},
   "outputs": [
    {
     "data": {
      "image/png": "[encoded data removed]",
      "text/plain": [
       "<Figure size 432x288 with 1 Axes>"
      ]
     },
     "metadata": {
      "needs_background": "light"
     },
     "output_type": "display_data"
    },
    {
     "data": {
      "image/png": "[encoded data removed]",
      "text/plain": [
       "<Figure size 432x288 with 1 Axes>"
      ]
     },
     "metadata": {
      "needs_background": "light"
     },
     "output_type": "display_data"
    }
   ],
   "source": [
    "# plotting training and validation loss\n",
    "\n",
    "loss = history.history['loss']\n",
    "val_loss = history.history['val_loss']\n",
    "epochs = range(1, len(loss) + 1)\n",
    "plt.plot(epochs, loss, color='red', label='Training loss')\n",
    "plt.plot(epochs, val_loss, color='green', label='Validation loss')\n",
    "plt.title('Training and Validation loss')\n",
    "plt.xlabel('Epochs')\n",
    "plt.ylabel('Loss')\n",
    "plt.legend()\n",
    "plt.show()\n",
    "\n",
    "\n",
    "# plotting training and validation Accuracy\n",
    "\n",
    "acc = history.history['acc']\n",
    "val_acc = history.history['val_acc']\n",
    "epochs = range(1, len(loss) + 1)\n",
    "plt.plot(epochs, acc, color='red', label='Training Accuracy')\n",
    "plt.plot(epochs, val_acc, color='green', label='Validation Accuracy')\n",
    "plt.title('Training and Validation Accuracy')\n",
    "plt.xlabel('Epochs')\n",
    "plt.ylabel('Loss')\n",
    "plt.legend()\n",
    "plt.show()"
   ]
  },
  {
   "cell_type": "code",
   "execution_count": 8,
   "metadata": {},
   "outputs": [
    {
     "name": "stdout",
     "output_type": "stream",
     "text": [
      "25000/25000 [==============================] - 18s 704us/sample - loss: 1.7381 - acc: 0.7378\n",
      "1.7381113950538636 0.73784\n"
     ]
    }
   ],
   "source": [
    "testLoss, testAccuracy = lstmModel.evaluate(Xtest, Ytest)\n",
    "print(testLoss, testAccuracy)"
   ]
  },
  {
   "cell_type": "markdown",
   "metadata": {},
   "source": [
    "# Exercise \n",
    "\n",
    "Modify the code as per the below instructions\n",
    "- Use a different dataset.\n",
    "- Choose a different embedding like word2vec or gensim, if applicable. \n",
    "- Modify the architecture, as below\n",
    "    - Single layer of LSTM and FC\n",
    "    - Two layers of LSTM and FC\n",
    "- Change the number of LSTM units in each layer.\n",
    "\n"
   ]
  }
 ],
 "metadata": {
  "kernelspec": {
   "display_name": "Python 3 (ipykernel)",
   "language": "python",
   "name": "python3"
  },
  "language_info": {
   "codemirror_mode": {
    "name": "ipython",
    "version": 3
   },
   "file_extension": ".py",
   "mimetype": "text/x-python",
   "name": "python",
   "nbconvert_exporter": "python",
   "pygments_lexer": "ipython3",
   "version": "3.8.10"
  }
 },
 "nbformat": 4,
 "nbformat_minor": 2
}
