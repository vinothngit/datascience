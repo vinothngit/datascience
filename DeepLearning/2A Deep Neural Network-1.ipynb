{
 "cells": [
  {
   "cell_type": "markdown",
   "metadata": {},
   "source": [
    "# Deep Neural Network using Keras"
   ]
  },
  {
   "cell_type": "code",
   "execution_count": 1,
   "metadata": {},
   "outputs": [
    {
     "name": "stderr",
     "output_type": "stream",
     "text": [
      "2021-12-18 09:07:04.079932: W tensorflow/stream_executor/platform/default/dso_loader.cc:64] Could not load dynamic library 'libcudart.so.11.0'; dlerror: libcudart.so.11.0: cannot open shared object file: No such file or directory\n",
      "2021-12-18 09:07:04.079967: I tensorflow/stream_executor/cuda/cudart_stub.cc:29] Ignore above cudart dlerror if you do not have a GPU set up on your machine.\n"
     ]
    }
   ],
   "source": [
    "import tensorflow as tf\n",
    "\n",
    "from tensorflow.keras import models\n",
    "from tensorflow.keras import layers\n",
    "\n",
    "import random\n",
    "import numpy as np"
   ]
  },
  {
   "cell_type": "code",
   "execution_count": 3,
   "metadata": {},
   "outputs": [],
   "source": [
    "random.seed(42)         # Initialize the random number generator.\n",
    "np.random.seed(42)      # With the seed reset, the same set of \n",
    "                        # numbers will appear every time. \n",
    "#tf.set_random_seed(42)  # sets the graph-level random seed"
   ]
  },
  {
   "cell_type": "markdown",
   "metadata": {},
   "source": [
    "## Dataset"
   ]
  },
  {
   "cell_type": "code",
   "execution_count": 4,
   "metadata": {},
   "outputs": [],
   "source": [
    "# Use the MNIST dataset  of Keras.\n",
    "\n",
    "mnist = tf.keras.datasets.mnist\n",
    "\n",
    "(Xtrain, Ytrain) , (Xtest, Ytest) = mnist.load_data()"
   ]
  },
  {
   "cell_type": "code",
   "execution_count": null,
   "metadata": {},
   "outputs": [],
   "source": [
    "import matplotlib.pyplot as plt\n",
    "\n",
    "plt.figure(figsize=[5,5])\n",
    "\n",
    "# Display the first image in training data\n",
    "plt.subplot(121)\n",
    "plt.imshow(Xtrain[0,:,:], cmap='gray')\n",
    "plt.title(\"Ground Truth (Train) : {}\".format(Ytrain[0]))\n",
    "\n",
    "# Display the first image in testing data\n",
    "plt.subplot(122)\n",
    "plt.imshow(Xtest[0,:,:], cmap='gray')\n",
    "plt.title(\"Ground Truth (Test): {}\".format(Ytest[0]))"
   ]
  },
  {
   "cell_type": "code",
   "execution_count": null,
   "metadata": {},
   "outputs": [],
   "source": [
    "# size of the datsets\n",
    "\n",
    "print(Xtrain.shape)\n",
    "print(Xtest.shape)\n",
    "print(Ytrain.shape)\n",
    "print(Ytest.shape)"
   ]
  },
  {
   "cell_type": "code",
   "execution_count": null,
   "metadata": {},
   "outputs": [],
   "source": [
    "# print a sample data\n",
    "\n",
    "print('Xtrain \\n', Xtrain[10,10])\n",
    "print('Xtest \\n', Xtest[10,10])\n",
    "print('Ytrain \\n', Ytrain[10,])\n",
    "print('Ytest \\n', Ytest[10,])"
   ]
  },
  {
   "cell_type": "code",
   "execution_count": 5,
   "metadata": {},
   "outputs": [],
   "source": [
    "# Normalize the data\n",
    "# 60000 input images are in the train set.\n",
    "# 10000 input images are in the test set.\n",
    "\n",
    "Xtrain = Xtrain.reshape((60000, 28*28))    # reshape the input set to size 28*28. \n",
    "Xtrain = Xtrain.astype('float32')/255      # normalize to grayscale; set datatype as float32\n",
    "\n",
    "Xtest = Xtest.reshape((10000, 28*28))      # reshape the input set to size 28*28. \n",
    "Xtest = Xtest.astype('float32')/255        # normalize to grayscale; set datatype as float32\n",
    "\n",
    "Ytrain = tf.keras.utils.to_categorical(Ytrain)\n",
    "Ytest = tf.keras.utils.to_categorical(Ytest)"
   ]
  },
  {
   "cell_type": "code",
   "execution_count": null,
   "metadata": {},
   "outputs": [],
   "source": [
    "# print a sample data\n",
    "\n",
    "print('Xtrain \\n', Xtrain[10,10])\n",
    "print('Xtest \\n', Xtest[10,10])\n",
    "print('Ytrain \\n', Ytrain[10,])\n",
    "print('Ytest \\n', Ytest[10,])"
   ]
  },
  {
   "cell_type": "markdown",
   "metadata": {},
   "source": [
    "## DNN Model"
   ]
  },
  {
   "cell_type": "markdown",
   "metadata": {},
   "source": [
    "Using Keras, create the DNN or Sequential Model"
   ]
  },
  {
   "cell_type": "code",
   "execution_count": 6,
   "metadata": {},
   "outputs": [
    {
     "name": "stderr",
     "output_type": "stream",
     "text": [
      "2021-12-18 09:08:08.981624: W tensorflow/stream_executor/platform/default/dso_loader.cc:64] Could not load dynamic library 'libcuda.so.1'; dlerror: libcuda.so.1: cannot open shared object file: No such file or directory\n",
      "2021-12-18 09:08:08.981768: W tensorflow/stream_executor/cuda/cuda_driver.cc:326] failed call to cuInit: UNKNOWN ERROR (303)\n",
      "2021-12-18 09:08:08.981877: I tensorflow/stream_executor/cuda/cuda_diagnostics.cc:156] kernel driver does not appear to be running on this host (seetha-HP-348-G4): /proc/driver/nvidia/version does not exist\n",
      "2021-12-18 09:08:08.982836: I tensorflow/core/platform/cpu_feature_guard.cc:142] This TensorFlow binary is optimized with oneAPI Deep Neural Network Library (oneDNN) to use the following CPU instructions in performance-critical operations:  AVX2 FMA\n",
      "To enable them in other operations, rebuild TensorFlow with the appropriate compiler flags.\n"
     ]
    }
   ],
   "source": [
    "# Create a model object\n",
    "\n",
    "dnnModel = models.Sequential()"
   ]
  },
  {
   "cell_type": "markdown",
   "metadata": {},
   "source": [
    "Add dense layers, specifying the number of units in each layer and the activation function used in the layer."
   ]
  },
  {
   "cell_type": "code",
   "execution_count": 7,
   "metadata": {},
   "outputs": [
    {
     "name": "stdout",
     "output_type": "stream",
     "text": [
      "Model: \"sequential\"\n",
      "_________________________________________________________________\n",
      "Layer (type)                 Output Shape              Param #   \n",
      "=================================================================\n",
      "dense (Dense)                (None, 50)                39250     \n",
      "_________________________________________________________________\n",
      "dense_1 (Dense)              (None, 60)                3060      \n",
      "_________________________________________________________________\n",
      "dense_2 (Dense)              (None, 30)                1830      \n",
      "_________________________________________________________________\n",
      "dense_3 (Dense)              (None, 10)                310       \n",
      "=================================================================\n",
      "Total params: 44,450\n",
      "Trainable params: 44,450\n",
      "Non-trainable params: 0\n",
      "_________________________________________________________________\n"
     ]
    }
   ],
   "source": [
    "# Layer 1 = hidden layer\n",
    "# specify the input size in the first layer.MLP\n",
    "\n",
    "dnnModel.add(layers.Dense(50, activation='relu', input_shape= (28*28,)))\n",
    "\n",
    "# Layer 2 = hidden layer \n",
    "dnnModel.add(layers.Dense(60, activation='relu'))\n",
    "\n",
    "# Layer 3 = hidden layer \n",
    "dnnModel.add(layers.Dense(30, activation='relu'))\n",
    "\n",
    "\n",
    "# Layer 4 = output layer\n",
    "# number of neurons = number of classes = 10\n",
    "dnnModel.add(layers.Dense(10, activation='softmax'))\n",
    "\n",
    "dnnModel.summary()"
   ]
  },
  {
   "cell_type": "code",
   "execution_count": 17,
   "metadata": {},
   "outputs": [
    {
     "data": {
      "image/png": "[encoded data removed]",
      "text/plain": [
       "<IPython.core.display.Image object>"
      ]
     },
     "execution_count": 17,
     "metadata": {},
     "output_type": "execute_result"
    }
   ],
   "source": [
    "from tensorflow.python.keras.utils.vis_utils import plot_model\n",
    "plot_model(dnnModel, to_file='2A DNN.png')\n",
    "from IPython.display import Image\n",
    "Image(filename='2A DNN.png') "
   ]
  },
  {
   "cell_type": "markdown",
   "metadata": {},
   "source": [
    "## Regularization and Optimizations of DNN"
   ]
  },
  {
   "cell_type": "code",
   "execution_count": 8,
   "metadata": {},
   "outputs": [],
   "source": [
    "# Configure  the model for training, by using appropriate optimizers and regularizations\n",
    "# Available optimizer: adam, rmsprop, adagrad, sgd\n",
    "# loss:  objective that the model will try to minimize. \n",
    "# Available loss: categorical_crossentropy, binary_crossentropy, mean_squared_error\n",
    "# metrics: List of metrics to be evaluated by the model during training and testing. \n",
    "        \n",
    "dnnModel.compile( optimizer = 'sgd', loss = 'categorical_crossentropy', metrics=['accuracy'] )"
   ]
  },
  {
   "cell_type": "markdown",
   "metadata": {},
   "source": [
    "## Train the Model"
   ]
  },
  {
   "cell_type": "code",
   "execution_count": 18,
   "metadata": {},
   "outputs": [
    {
     "name": "stdout",
     "output_type": "stream",
     "text": [
      "Epoch 1/25\n",
      " 40/844 [>.............................] - ETA: 2s - loss: 0.0747 - accuracy: 0.9770"
     ]
    },
    {
     "name": "stderr",
     "output_type": "stream",
     "text": [
      "2021-12-18 09:25:02.263355: W tensorflow/core/framework/cpu_allocator_impl.cc:80] Allocation of 169344000 exceeds 10% of free system memory.\n"
     ]
    },
    {
     "name": "stdout",
     "output_type": "stream",
     "text": [
      "844/844 [==============================] - 3s 3ms/step - loss: 0.0848 - accuracy: 0.9750 - val_loss: 0.0714 - val_accuracy: 0.9790\n",
      "Epoch 2/25\n",
      "844/844 [==============================] - 2s 2ms/step - loss: 0.0821 - accuracy: 0.9761 - val_loss: 0.0730 - val_accuracy: 0.9802\n",
      "Epoch 3/25\n",
      "844/844 [==============================] - 2s 2ms/step - loss: 0.0793 - accuracy: 0.9769 - val_loss: 0.0706 - val_accuracy: 0.9798\n",
      "Epoch 4/25\n",
      "844/844 [==============================] - 2s 3ms/step - loss: 0.0769 - accuracy: 0.9771 - val_loss: 0.0753 - val_accuracy: 0.9795\n",
      "Epoch 5/25\n",
      "844/844 [==============================] - 3s 3ms/step - loss: 0.0749 - accuracy: 0.9782 - val_loss: 0.0739 - val_accuracy: 0.9787\n",
      "Epoch 6/25\n",
      "844/844 [==============================] - 3s 3ms/step - loss: 0.0727 - accuracy: 0.9789 - val_loss: 0.0740 - val_accuracy: 0.9802\n",
      "Epoch 7/25\n",
      "844/844 [==============================] - 2s 3ms/step - loss: 0.0707 - accuracy: 0.9795 - val_loss: 0.0751 - val_accuracy: 0.9797\n",
      "Epoch 8/25\n",
      "844/844 [==============================] - 2s 3ms/step - loss: 0.0684 - accuracy: 0.9802 - val_loss: 0.0736 - val_accuracy: 0.9802\n",
      "Epoch 9/25\n",
      "844/844 [==============================] - 3s 3ms/step - loss: 0.0663 - accuracy: 0.9806 - val_loss: 0.0730 - val_accuracy: 0.9790\n",
      "Epoch 10/25\n",
      "844/844 [==============================] - 2s 2ms/step - loss: 0.0645 - accuracy: 0.9814 - val_loss: 0.0720 - val_accuracy: 0.9798\n",
      "Epoch 11/25\n",
      "844/844 [==============================] - 2s 3ms/step - loss: 0.0629 - accuracy: 0.9816 - val_loss: 0.0724 - val_accuracy: 0.9795\n",
      "Epoch 12/25\n",
      "844/844 [==============================] - 2s 2ms/step - loss: 0.0610 - accuracy: 0.9822 - val_loss: 0.0740 - val_accuracy: 0.9787\n",
      "Epoch 13/25\n",
      "844/844 [==============================] - 2s 2ms/step - loss: 0.0594 - accuracy: 0.9827 - val_loss: 0.0741 - val_accuracy: 0.9792\n",
      "Epoch 14/25\n",
      "844/844 [==============================] - 2s 2ms/step - loss: 0.0577 - accuracy: 0.9838 - val_loss: 0.0760 - val_accuracy: 0.9788\n",
      "Epoch 15/25\n",
      "844/844 [==============================] - 2s 2ms/step - loss: 0.0564 - accuracy: 0.9839 - val_loss: 0.0746 - val_accuracy: 0.9797\n",
      "Epoch 16/25\n",
      "844/844 [==============================] - 2s 3ms/step - loss: 0.0545 - accuracy: 0.9847 - val_loss: 0.0731 - val_accuracy: 0.9802\n",
      "Epoch 17/25\n",
      "844/844 [==============================] - 2s 3ms/step - loss: 0.0533 - accuracy: 0.9848 - val_loss: 0.0747 - val_accuracy: 0.9803\n",
      "Epoch 18/25\n",
      "844/844 [==============================] - 2s 2ms/step - loss: 0.0519 - accuracy: 0.9853 - val_loss: 0.0733 - val_accuracy: 0.9785\n",
      "Epoch 19/25\n",
      "844/844 [==============================] - 2s 2ms/step - loss: 0.0504 - accuracy: 0.9862 - val_loss: 0.0733 - val_accuracy: 0.9800\n",
      "Epoch 20/25\n",
      "844/844 [==============================] - 2s 3ms/step - loss: 0.0493 - accuracy: 0.9858 - val_loss: 0.0769 - val_accuracy: 0.9778\n",
      "Epoch 21/25\n",
      "844/844 [==============================] - 3s 3ms/step - loss: 0.0478 - accuracy: 0.9869 - val_loss: 0.0756 - val_accuracy: 0.9787\n",
      "Epoch 22/25\n",
      "844/844 [==============================] - 2s 2ms/step - loss: 0.0466 - accuracy: 0.9871 - val_loss: 0.0750 - val_accuracy: 0.9773\n",
      "Epoch 23/25\n",
      "844/844 [==============================] - 2s 2ms/step - loss: 0.0457 - accuracy: 0.9870 - val_loss: 0.0781 - val_accuracy: 0.9787\n",
      "Epoch 24/25\n",
      "844/844 [==============================] - 2s 2ms/step - loss: 0.0438 - accuracy: 0.9879 - val_loss: 0.0790 - val_accuracy: 0.9790\n",
      "Epoch 25/25\n",
      "844/844 [==============================] - 3s 3ms/step - loss: 0.0431 - accuracy: 0.9878 - val_loss: 0.0777 - val_accuracy: 0.9787\n"
     ]
    }
   ],
   "source": [
    "# train the model\n",
    "\n",
    "\n",
    "\n",
    "h  = dnnModel.fit( Xtrain, Ytrain, epochs=25, validation_split=0.1, batch_size=64)"
   ]
  },
  {
   "cell_type": "code",
   "execution_count": 20,
   "metadata": {},
   "outputs": [
    {
     "name": "stdout",
     "output_type": "stream",
     "text": [
      "Final training accuracy  0.9878148436546326\n",
      "Final validation accuracy  0.9786666631698608\n"
     ]
    }
   ],
   "source": [
    "#print('Final training loss \\t', h.history['loss'][-1])\n",
    "print('Final training accuracy ', h.history['accuracy'][-1])\n",
    "#print('Final training loss \\t', h.history['val_loss'][-1])\n",
    "print('Final validation accuracy ', h.history['val_accuracy'][-1])"
   ]
  },
  {
   "cell_type": "markdown",
   "metadata": {},
   "source": [
    "## Testing the Model"
   ]
  },
  {
   "cell_type": "code",
   "execution_count": 21,
   "metadata": {},
   "outputs": [
    {
     "name": "stdout",
     "output_type": "stream",
     "text": [
      "313/313 [==============================] - 1s 2ms/step - loss: 0.0992 - accuracy: 0.9722\n"
     ]
    }
   ],
   "source": [
    "# testing the model\n",
    "\n",
    "testLoss, testAccuracy = dnnModel.evaluate( Xtest, Ytest)"
   ]
  },
  {
   "cell_type": "code",
   "execution_count": 13,
   "metadata": {},
   "outputs": [
    {
     "name": "stdout",
     "output_type": "stream",
     "text": [
      "Testing loss \t 0.11252103000879288\n",
      "Testing accuracy  0.965499997138977\n"
     ]
    }
   ],
   "source": [
    "print('Testing loss \\t', testLoss)\n",
    "print('Testing accuracy ', testAccuracy)"
   ]
  },
  {
   "cell_type": "code",
   "execution_count": 23,
   "metadata": {},
   "outputs": [],
   "source": [
    "num_classes = 9\n",
    "\n",
    "#traget names\n",
    "target_names = [\"Class {}\".format(i) for i in range(num_classes)]\n",
    "\n",
    "Ytrue = np.argmax(Ytest,axis = 1)\n",
    "\n",
    "# Predict Labels\n",
    "Ypredicted = dnnModel.predict(Xtest)\n",
    "Ypredicted = np.argmax(np.round(Ypredicted),axis=1)\n"
   ]
  },
  {
   "cell_type": "code",
   "execution_count": 44,
   "metadata": {},
   "outputs": [
    {
     "data": {
      "image/png": "[encoded data removed]",
      "text/plain": [
       "<Figure size 432x288 with 1 Axes>"
      ]
     },
     "metadata": {},
     "output_type": "display_data"
    }
   ],
   "source": [
    "import matplotlib.pyplot as plt \n",
    "\n",
    "accuracy = h.history['accuracy']\n",
    "val_accuracy = h.history['val_accuracy']\n",
    "\n",
    "# plot loss and accuracy\n",
    "epochs = range(len(accuracy))\n",
    "\n",
    "plt.style.use('ggplot')\n",
    "plt.plot(epochs, accuracy, 'blue', label='Training accuracy')\n",
    "plt.plot(epochs, val_accuracy, 'red', label='Validation accuracy')\n",
    "plt.yticks((0.9,0.92,0.94,0.96,0.98,1.0))\n",
    "plt.xlabel('Epochs', fontsize=14)\n",
    "plt.ylabel('Accuracy', fontsize=14)\n",
    "plt.title('Training', fontsize=17)\n",
    "plt.legend(loc='lower right') \n",
    "plt.grid(None)\n",
    "\n",
    "plt.show()"
   ]
  },
  {
   "cell_type": "code",
   "execution_count": 24,
   "metadata": {},
   "outputs": [
    {
     "name": "stdout",
     "output_type": "stream",
     "text": [
      "[[ 967    0    0    1    2    4    2    1    3    0]\n",
      " [   4 1115    2    2    0    2    3    1    6    0]\n",
      " [  10    2  996    2    3    1    4    4    9    1]\n",
      " [   9    0    3  976    0   10    0    4    5    3]\n",
      " [   1    0    5    0  957    0    1    1    0   17]\n",
      " [   4    1    0    6    3  858    8    1    5    6]\n",
      " [   7    3    1    1    6    2  935    0    3    0]\n",
      " [   9    3    6    6    2    0    0  987    3   12]\n",
      " [   4    0    4    4    2    5    4    2  946    3]\n",
      " [   6    3    0    6   12    5    1    3    3  970]]\n"
     ]
    },
    {
     "data": {
      "text/plain": [
       "<AxesSubplot:>"
      ]
     },
     "execution_count": 24,
     "metadata": {},
     "output_type": "execute_result"
    },
    {
     "data": {
      "image/png": "[encoded data removed]",
      "text/plain": [
       "<Figure size 432x288 with 2 Axes>"
      ]
     },
     "metadata": {
      "needs_background": "light"
     },
     "output_type": "display_data"
    }
   ],
   "source": [
    "import seaborn as sn\n",
    "import pandas as pd\n",
    "import matplotlib.pyplot as plt\n",
    "from sklearn.metrics import confusion_matrix\n",
    "\n",
    "cm = confusion_matrix(Ytrue, Ypredicted)\n",
    "print(cm)\n",
    "df_cm = pd.DataFrame(cm)\n",
    "\n",
    "#plt.figure(figsize = (10,7))\n",
    "sn.heatmap(df_cm, annot=True, vmin=-20, vmax=40, cmap=\"Blues\")\n"
   ]
  },
  {
   "cell_type": "code",
   "execution_count": 31,
   "metadata": {},
   "outputs": [
    {
     "name": "stdout",
     "output_type": "stream",
     "text": [
      "              precision    recall  f1-score   support\n",
      "\n",
      "           0       0.95      0.99      0.97       980\n",
      "           1       0.99      0.98      0.99      1135\n",
      "           2       0.98      0.97      0.97      1032\n",
      "           3       0.97      0.97      0.97      1010\n",
      "           4       0.97      0.97      0.97       982\n",
      "           5       0.97      0.96      0.96       892\n",
      "           6       0.98      0.98      0.98       958\n",
      "           7       0.98      0.96      0.97      1028\n",
      "           8       0.96      0.97      0.97       974\n",
      "           9       0.96      0.96      0.96      1009\n",
      "\n",
      "    accuracy                           0.97     10000\n",
      "   macro avg       0.97      0.97      0.97     10000\n",
      "weighted avg       0.97      0.97      0.97     10000\n",
      "\n"
     ]
    }
   ],
   "source": [
    "from sklearn.metrics import classification_report\n",
    "\n",
    "print(classification_report(Ytrue, Ypredicted))"
   ]
  },
  {
   "cell_type": "markdown",
   "metadata": {},
   "source": [
    "# Exercise \n",
    "\n",
    "Modify the code to get a better testing accuracy.\n",
    "- Change the number of hidden units\n",
    "- Increase the number of hidden layers\n",
    "- Use a different optimizer"
   ]
  }
 ],
 "metadata": {
  "kernelspec": {
   "display_name": "Python 3 (ipykernel)",
   "language": "python",
   "name": "python3"
  },
  "language_info": {
   "codemirror_mode": {
    "name": "ipython",
    "version": 3
   },
   "file_extension": ".py",
   "mimetype": "text/x-python",
   "name": "python",
   "nbconvert_exporter": "python",
   "pygments_lexer": "ipython3",
   "version": "3.8.10"
  }
 },
 "nbformat": 4,
 "nbformat_minor": 2
}
